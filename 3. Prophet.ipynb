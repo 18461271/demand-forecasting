{
 "cells": [
  {
   "cell_type": "markdown",
   "metadata": {},
   "source": [
    "# what is Facebook Prophet\n",
    "Instead of thinking how  the series was  generated in some hypothetical world, we are just going to fit the curve.\n",
    "## A decomposable time-series model, each component is additive, but the individual model may or may not linear\n",
    "$y(t) = \\text{piecewise_trend}(t) + \\text{seasonality}(t)+ \\text{holiday_effects}(t)+ \\text{i.i.d noise} $\n",
    " 1.  $\\text{piecewise_trend}(t)$: it can be either a logistic trend or a linear trend , it accounts for how fast the time series is growing or decling, L1-regularized trend shifts\n",
    " 2.  $ \\text{seasonality}(t)$ : something that happens regularly in cycles that recurs and we can have multiple kinds of seasonality, Fourier series\n",
    " 3.  $\\text{holiday_effects}(t)$: accounts for the spicky , outliers , dummy variables\n",
    " 4.  $ \\text{i.i.d noise} $, focus of traditional time series methods"
   ]
  },
  {
   "cell_type": "code",
   "execution_count": null,
   "metadata": {},
   "outputs": [],
   "source": [
    "import warnings\n",
    "\n",
    "with warnings.catch_warnings():\n",
    "    warnings.simplefilter(\"ignore\")\n",
    "    import numpy as np\n",
    "    import pandas as pd\n",
    "    from collections import OrderedDict\n",
    "    import re\n",
    "    import statsmodels\n",
    "    from statsmodels.nonparametric.smoothers_lowess import lowess\n",
    "    import statsmodels.api as sm\n",
    "#     import sklearn\n",
    "    import fbprophet\n",
    "    from fbprophet import Prophet\n",
    "#     import pymc3\n",
    "#     import lightgbm as lgb\n",
    "#     import xgboost as xgb\n",
    "#     import tensorflow as tf\n",
    "    import os\n",
    "    import datetime as dt\n",
    "    import matplotlib.pyplot as plt\n",
    "#     import seaborn as sns\n",
    "    import bokeh\n",
    "    from bokeh.models import CustomJS, ColumnDataSource, Slider, Label, Div, HoverTool, Band, Span, BoxAnnotation\n",
    "    from bokeh.plotting import figure\n",
    "    from bokeh.palettes import Spectral11\n",
    "    import ipywidgets as widgets\n",
    "    from IPython.display import display\n",
    "    from typing import Union, Dict, List, Callable\n",
    "    from contextlib import contextmanager\n",
    "    import sys, os\n",
    "    import datetime as dt\n",
    "\n",
    "print('numpy version: ', np.__version__)\n",
    "print('pandas version: ', pd.__version__)\n",
    "print('statsmodels version: ', statsmodels.__version__)\n",
    "print('prophet version: ', fbprophet.__version__)\n",
    "# print('xgboost version: ', xgb.__version__)\n",
    "# print('pymc3 version: ', pymc3.__version__)\n",
    "# print('tensorflow version: ', tf.__version__)\n",
    "print('ipywidgets version: ', widgets.__version__)\n",
    "warnings.filterwarnings('ignore', module='matplotlib')\n",
    "bokeh.io.output_notebook()"
   ]
  }
 ],
 "metadata": {
  "kernelspec": {
   "display_name": "Python 3",
   "language": "python",
   "name": "python3"
  },
  "language_info": {
   "codemirror_mode": {
    "name": "ipython",
    "version": 3
   },
   "file_extension": ".py",
   "mimetype": "text/x-python",
   "name": "python",
   "nbconvert_exporter": "python",
   "pygments_lexer": "ipython3",
   "version": "3.6.8"
  }
 },
 "nbformat": 4,
 "nbformat_minor": 2
}
