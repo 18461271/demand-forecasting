{
 "cells": [
  {
   "cell_type": "markdown",
   "metadata": {},
   "source": [
    "# Econometric models\n",
    "This is a collection of classic econometric models that were used for the kaggle competition.\n",
    "For more info, read README and our blog post."
   ]
  },
  {
   "cell_type": "code",
   "execution_count": 1,
   "metadata": {},
   "outputs": [
    {
     "name": "stderr",
     "output_type": "stream",
     "text": [
      "D:\\python\\lib\\site-packages\\pyramid\\__init__.py:68: UserWarning: \n",
      "    The 'pyramid' package will be migrating to a new namespace beginning in \n",
      "    version 1.0.0: 'pmdarima'. This is due to a package name collision with the\n",
      "    Pyramid web framework. For more information, see Issue #34:\n",
      "    \n",
      "        https://github.com/tgsmith61591/pyramid/issues/34\n",
      "        \n",
      "    The package will subsequently be installable via the name 'pmdarima'; the\n",
      "    only functional change to the user will be the import name. All imports\n",
      "    from 'pyramid' will change to 'pmdarima'.\n",
      "    \n",
      "  \"\"\", UserWarning)\n"
     ]
    }
   ],
   "source": [
    "%matplotlib inline\n",
    "import os, os.path\n",
    "import itertools\n",
    "import pickle\n",
    "import time\n",
    "import numpy as np\n",
    "import pandas as pd\n",
    "from pyramid.arima import auto_arima\n",
    "import matplotlib.pyplot as plt\n",
    "import seaborn as sns\n",
    "import statsmodels.formula.api as smf\n",
    "import statsmodels.tsa.api as smt\n",
    "import statsmodels.api as sm\n",
    "from scipy.stats import describe\n",
    "import warnings"
   ]
  },
  {
   "cell_type": "code",
   "execution_count": 2,
   "metadata": {},
   "outputs": [],
   "source": [
    "pd.options.display.max_columns = 12\n",
    "pd.options.display.max_rows = 24\n",
    "\n",
    "# disable warnings in Anaconda\n",
    "warnings.simplefilter('ignore')\n",
    "\n",
    "# plots inisde jupyter notebook\n",
    "%matplotlib inline\n",
    "\n",
    "sns.set(style='darkgrid', palette='muted')\n",
    "color_scheme = {\n",
    "    'red': '#F1637A',\n",
    "    'green': '#6ABB3E',\n",
    "    'blue': '#3D8DEA',\n",
    "    'black': '#000000'\n",
    "}"
   ]
  },
  {
   "cell_type": "markdown",
   "metadata": {},
   "source": []
  },
  {
   "cell_type": "markdown",
   "metadata": {},
   "source": [
    "## Seasonality"
   ]
  },
  {
   "cell_type": "markdown",
   "metadata": {},
   "source": [
    "Choose seasonality model from above:"
   ]
  },
  {
   "cell_type": "code",
   "execution_count": 6,
   "metadata": {},
   "outputs": [],
   "source": [
    "seasonality_model = additive\n",
    "#seasonality_model = multiplicative"
   ]
  },
  {
   "cell_type": "code",
   "execution_count": 7,
   "metadata": {},
   "outputs": [],
   "source": [
    "categorize_by_week_of_year = lambda df: df.index.dayofyear // 7\n",
    "categorize_by_day_of_week = lambda df: df.index.dayofweek"
   ]
  },
  {
   "cell_type": "code",
   "execution_count": 9,
   "metadata": {},
   "outputs": [],
   "source": [
    "def compute_seasonality(series, categorization):\n",
    "    \"\"\"\n",
    "    Computes seasonal component parameters based on provided series.\n",
    "    \n",
    "    :type series: pd.Series\n",
    "    :param categorization: Function used to split values into various periods of the season.\n",
    "    :type categorization: pd.DataFrame -> some categorical type, eg. int\n",
    "    \"\"\"\n",
    "    df = pd.DataFrame()\n",
    "    df[\"values\"] = series\n",
    "    df.index = series.index\n",
    "    df[\"cat\"] = categorization(df)\n",
    "    return df.groupby(by=\"cat\")[\"values\"].mean()"
   ]
  },
  {
   "cell_type": "code",
   "execution_count": 10,
   "metadata": {},
   "outputs": [],
   "source": [
    "def alter_series_by_season(series, categorization, seasonality, op):\n",
    "    df = pd.DataFrame()\n",
    "    df[\"values\"] = series\n",
    "    df[\"values\"] = series\n",
    "    df[\"cat\"] = categorization(df)\n",
    "    return op(df[\"values\"], df[\"cat\"].map(seasonality))"
   ]
  },
  {
   "cell_type": "code",
   "execution_count": 11,
   "metadata": {},
   "outputs": [],
   "source": [
    "def add_seasonal_component(series, categorization, seasonality):\n",
    "    \"\"\"\n",
    "    Add previously computed seasonal component back into a deseasonalized series.\n",
    "    \n",
    "    :type series: pd.Series\n",
    "    :param categorization: Function used to split values into various periods of the season.\n",
    "    :type categorization: pd.DataFrame -> some categorical type, eg. int\n",
    "    :param seasonality: value returned from compute_seasonality\n",
    "    :returns: Series with added seasonal component.\n",
    "    :rtype: pd.Series\n",
    "    \"\"\"\n",
    "    return alter_series_by_season(series, categorization, seasonality, seasonality_model[\"op\"])"
   ]
  },
  {
   "cell_type": "code",
   "execution_count": 13,
   "metadata": {},
   "outputs": [],
   "source": [
    "def remove_seasonal_component(series, categorization, seasonality):\n",
    "    \"\"\"\n",
    "    Try removing a previously computed seasonal component.\n",
    "    \n",
    "    :type series: pd.Series\n",
    "    :param categorization: Function used to split values into various periods of the season.\n",
    "    :type categorization: pd.DataFrame -> some categorical type, eg. int\n",
    "    :param seasonality: value returned from compute_seasonality\n",
    "    :returns: Deseasonalized series.\n",
    "    :rtype: pd.Series\n",
    "    \"\"\"\n",
    "    return alter_series_by_season(series, categorization, seasonality, seasonality_model[\"inv\"])"
   ]
  },
  {
   "cell_type": "markdown",
   "metadata": {},
   "source": [
    "## Holt-Winters and SARIMA Models Utils"
   ]
  },
  {
   "cell_type": "code",
   "execution_count": 22,
   "metadata": {},
   "outputs": [],
   "source": [
    "def train_and_forecast(data, categorization, trainer, forecaster, deseasonize, steps_to_forecast=90):\n",
    "    \"\"\"\n",
    "    Split input data, deseasonalizes train data,\n",
    "    train using trainer (data -> model),\n",
    "    forecast using forecaster\n",
    "    \n",
    "    predicts values and applies seasonalization and returns predicted vs actual values\n",
    "    \n",
    "    :param data: dataset with the training data\n",
    "    :param categorization: Function used to split values into various periods of the season.\n",
    "    :type categorization: pd.DataFrame -> some categorical type, eg. int\n",
    "    :param trainer: Function used to train the model\n",
    "    :type trainer: pd.DataFrame -> model\n",
    "    :param forecaster: (model, steps) -> prediction\n",
    "    :param steps_to_forecast:  number of steps to forecast\n",
    "    :returns:  a dataframe with:\n",
    "                                date\n",
    "                                sales - true values\n",
    "                                forecast - forecasted values\n",
    "    \"\"\"\n",
    "    \n",
    "    #prepare trainig and validation datasets\n",
    "    df_train = data.iloc[:-365].copy()\n",
    "    df_validation = data.iloc[-365:].copy()\n",
    "    df_validation.index = pd.DatetimeIndex(df_validation[\"date\"])\n",
    "    df_train.index = pd.DatetimeIndex(df_train[\"date\"])\n",
    "    \n",
    "    if deseasonize:\n",
    "        seas = compute_seasonality(df_train[\"sales\"], categorization)\n",
    "        series = remove_seasonal_component(df_train[\"sales\"], categorization, seas)\n",
    "        df_train[\"sales\"] = series\n",
    "    \n",
    "    df_train = df_train.reset_index(drop=True)\n",
    "\n",
    "    # train\n",
    "    model = trainer(df_train)\n",
    "    \n",
    "    # forecast\n",
    "    forecast = forecaster(model, steps_to_forecast)\n",
    "    \n",
    "    # Create the pandas series from the forecast\n",
    "    forecast = pd.Series(forecast)\n",
    "    forecast.name = \"sales\"\n",
    "    forecast.index = pd.DatetimeIndex(start='2017-01-01', \n",
    "                                      freq=\"D\",\n",
    "                                      periods = forecast.size)\n",
    "    \n",
    "    if deseasonize:\n",
    "        forecast = add_seasonal_component(forecast, categorization, seas)\n",
    "    \n",
    "    final_forecast = pd.DataFrame()\n",
    "    final_forecast['real_values'] = df_validation[\"sales\"][:steps_to_forecast]\n",
    "    final_forecast['forecast'] = forecast\n",
    "    \n",
    "    return final_forecast"
   ]
  },
  {
   "cell_type": "code",
   "execution_count": 23,
   "metadata": {},
   "outputs": [],
   "source": [
    "def extract_single_df(data, store, item):\n",
    "    \"\"\"\n",
    "    Extract single store/item time series from provided \n",
    "    dataset\n",
    "    \n",
    "    :param data: Pandas dataframe with multiple timeseries\n",
    "    :param store: number of the store\n",
    "    :param item: number of the item\n",
    "    :returns: Pandas dataframe with single store/item time series\n",
    "    \"\"\"\n",
    "    \n",
    "    df_single = data.loc[(data.store == store) & (data.item == item),[\"date\", \"sales\"]].copy()\n",
    "    df_single.reset_index(drop=True, inplace=True)\n",
    "    df_single.date = pd.to_datetime(df_single.date)\n",
    "    return df_single"
   ]
  },
  {
   "cell_type": "code",
   "execution_count": 24,
   "metadata": {},
   "outputs": [],
   "source": [
    "def compute_all_models(data, ids, categorization, trainer, forecaster, deseasonize, steps_to_forecast=90):\n",
    "    \"\"\"\n",
    "    Train the models and use them to make forecast for all of the individual\n",
    "    time series separately\n",
    "    \n",
    "    :params data: dataframe with multiple time series\n",
    "    :params ids: list of tuples with stores and items\n",
    "    :param categorization: Function used to split values into various periods of the season.\n",
    "    :type categorization: pd.DataFrame -> some categorical type, eg. int\n",
    "    :param trainer: Function used to train the model\n",
    "    :type trainer: pd.DataFrame -> model\n",
    "    :param forecaster: (model, steps) -> prediction\n",
    "    :param steps_to_forecast: number of steps to forecast\n",
    "    \"\"\"\n",
    "    \n",
    "    all_models_forecast = {}\n",
    "    all_models_smape = np.array([])\n",
    "    number_of_time_series = 0\n",
    "    for store, item in ids:\n",
    "        single_time_series = extract_single_df(data, store, item)\n",
    "        predictions = train_and_forecast(single_time_series, categorization,\n",
    "                                         trainer, forecaster, deseasonize, steps_to_forecast)\n",
    "        score = smape(predictions['real_values'], predictions['forecast'])\n",
    "        results = {\n",
    "            \"item\": item,\n",
    "            \"store\": store,\n",
    "            \"predictions\": predictions,\n",
    "            \"smape\": score\n",
    "        }\n",
    "        print(score)\n",
    "        all_models_smape = np.append(all_models_smape, score)\n",
    "        all_models_forecast[str(store) + str(item)] = results\n",
    "        number_of_time_series += 1\n",
    "    forecast_smape = np.sum(all_models_smape) / number_of_time_series\n",
    "        \n",
    "    return results, forecast_smape"
   ]
  },
  {
   "cell_type": "code",
   "execution_count": 25,
   "metadata": {},
   "outputs": [],
   "source": [
    "def smape(y, y_pred):\n",
    "    \"\"\"\n",
    "    compute the SMAPE metrics\n",
    "    \n",
    "    :param y: array with true values\n",
    "    :param y: array with forcasted values\n",
    "    :returns: average smape metrics for the given period\n",
    "    \"\"\"\n",
    "    \n",
    "    div = (abs(y_pred) + abs(y)) / 2\n",
    "    errors = abs(y_pred - y) / div\n",
    "        \n",
    "    smape = np.sum(errors) / len(y)\n",
    "    return smape"
   ]
  },
  {
   "cell_type": "code",
   "execution_count": 26,
   "metadata": {},
   "outputs": [],
   "source": [
    "def compute_avg_smape (df_y, df_y_pred):\n",
    "    \"\"\"\n",
    "    Compute average SMAPE of multiple forecast\n",
    "    \n",
    "    :param df_y: data series with real values\n",
    "    :param df_y_pred: dataframe with multiple forecasts\n",
    "    :returns: average SMAPE of all forecasts\n",
    "    \"\"\"\n",
    "    \n",
    "    avg_smape = 0\n",
    "    for i in range(df_y_pred.shape[1]):\n",
    "        err = smape(y=df_y.iloc[:,i],\n",
    "                              y_pred=df_y_pred.iloc[:,i])\n",
    "        avg_smape += err\n",
    "\n",
    "    avg_smape /= df_y_pred.shape[1]\n",
    "    return avg_smape\n"
   ]
  },
  {
   "cell_type": "markdown",
   "metadata": {},
   "source": [
    "### Data import & preparation \n",
    "In order for this to work, download all datasets from kaggle competition:  \n",
    "https://www.kaggle.com/c/demand-forecasting-kernels-only  \n",
    "and place them in `../data/` folder.  \n",
    "We could not append datasets to our repo because of copyrights."
   ]
  },
  {
   "cell_type": "code",
   "execution_count": 34,
   "metadata": {},
   "outputs": [],
   "source": [
    "#Import data\n",
    "dir_name = \"../train.csv/\" #insert your own path here\n",
    "file_name = \"train.csv\"\n",
    "\n",
    "filepath_train = os.path.abspath(os.path.join(os.getcwd(), dir_name, file_name ))\n",
    "\n",
    "store_item_data = pd.read_csv(filepath_train)\n",
    "store_item_data.index = pd.DatetimeIndex(store_item_data['date'])\n"
   ]
  },
  {
   "cell_type": "code",
   "execution_count": 35,
   "metadata": {},
   "outputs": [
    {
     "name": "stdout",
     "output_type": "stream",
     "text": [
      "DatetimeIndex(['2013-01-01', '2013-01-02', '2013-01-03', '2013-01-04',\n",
      "               '2013-01-05', '2013-01-06', '2013-01-07', '2013-01-08',\n",
      "               '2013-01-09', '2013-01-10',\n",
      "               ...\n",
      "               '2017-12-22', '2017-12-23', '2017-12-24', '2017-12-25',\n",
      "               '2017-12-26', '2017-12-27', '2017-12-28', '2017-12-29',\n",
      "               '2017-12-30', '2017-12-31'],\n",
      "              dtype='datetime64[ns]', name='date', length=913000, freq=None)\n"
     ]
    }
   ],
   "source": [
    "print(store_item_data.index )"
   ]
  },
  {
   "cell_type": "code",
   "execution_count": 36,
   "metadata": {},
   "outputs": [],
   "source": [
    "number_of_stores = 10\n",
    "number_of_items = 50"
   ]
  },
  {
   "cell_type": "code",
   "execution_count": 37,
   "metadata": {},
   "outputs": [],
   "source": [
    "ids = list(itertools.product(range(1,number_of_stores+1), range(1,number_of_items+1)))"
   ]
  },
  {
   "cell_type": "code",
   "execution_count": 38,
   "metadata": {},
   "outputs": [
    {
     "name": "stdout",
     "output_type": "stream",
     "text": [
      "500\n",
      "[(1, 1), (1, 2), (1, 3), (1, 4), (1, 5), (1, 6), (1, 7), (1, 8), (1, 9), (1, 10), (1, 11), (1, 12), (1, 13), (1, 14), (1, 15), (1, 16), (1, 17), (1, 18), (1, 19), (1, 20)]\n"
     ]
    }
   ],
   "source": [
    "print(len(ids))\n",
    "print(ids[:20])"
   ]
  },
  {
   "cell_type": "markdown",
   "metadata": {},
   "source": [
    "## Holt-Winters Method"
   ]
  },
  {
   "cell_type": "code",
   "execution_count": 41,
   "metadata": {},
   "outputs": [],
   "source": [
    "# create a trainer which can be use to train all of the models\n",
    "hw_trainer = lambda df: smt.ExponentialSmoothing(endog=df.loc[-365:,'sales'], damped=False,\n",
    "                         trend='add',seasonal='add', seasonal_periods=7).fit()"
   ]
  },
  {
   "cell_type": "code",
   "execution_count": 40,
   "metadata": {},
   "outputs": [],
   "source": [
    "# create a forecaster function to get the forcasts from all of the models\n",
    "hw_forecaster = lambda model, steps: model.predict(steps)"
   ]
  },
  {
   "cell_type": "code",
   "execution_count": 33,
   "metadata": {
    "scrolled": true
   },
   "outputs": [
    {
     "name": "stdout",
     "output_type": "stream",
     "text": [
      "0.28598555259953834\n",
      "0.20827398188240298\n",
      "0.21250942050208207\n",
      "0.2793967442232333\n",
      "0.26123599890573146\n",
      "0.21826951371697095\n",
      "0.21743769919366657\n"
     ]
    },
    {
     "ename": "KeyboardInterrupt",
     "evalue": "",
     "output_type": "error",
     "traceback": [
      "\u001b[1;31m---------------------------------------------------------------------------\u001b[0m",
      "\u001b[1;31mKeyboardInterrupt\u001b[0m                         Traceback (most recent call last)",
      "\u001b[1;32m<ipython-input-33-759d5224572b>\u001b[0m in \u001b[0;36m<module>\u001b[1;34m\u001b[0m\n\u001b[0;32m      1\u001b[0m hw_results, hw_smape = compute_all_models(store_item_data, ids, categorize_by_week_of_year,\n\u001b[1;32m----> 2\u001b[1;33m                                          hw_trainer, hw_forecaster, False)\n\u001b[0m\u001b[0;32m      3\u001b[0m \u001b[0mprint\u001b[0m\u001b[1;33m(\u001b[0m\u001b[1;34m\"Holt Winters method SMAPE on the validation set: \"\u001b[0m\u001b[1;33m,\u001b[0m \u001b[0mhw_smape\u001b[0m\u001b[1;33m)\u001b[0m\u001b[1;33m\u001b[0m\u001b[1;33m\u001b[0m\u001b[0m\n",
      "\u001b[1;32m<ipython-input-22-48e1ac2cbe36>\u001b[0m in \u001b[0;36mcompute_all_models\u001b[1;34m(data, ids, categorization, trainer, forecaster, deseasonize, steps_to_forecast)\u001b[0m\n\u001b[0;32m     20\u001b[0m         \u001b[0msingle_time_series\u001b[0m \u001b[1;33m=\u001b[0m \u001b[0mextract_single_df\u001b[0m\u001b[1;33m(\u001b[0m\u001b[0mdata\u001b[0m\u001b[1;33m,\u001b[0m \u001b[0mstore\u001b[0m\u001b[1;33m,\u001b[0m \u001b[0mitem\u001b[0m\u001b[1;33m)\u001b[0m\u001b[1;33m\u001b[0m\u001b[1;33m\u001b[0m\u001b[0m\n\u001b[0;32m     21\u001b[0m         predictions = train_and_forecast(single_time_series, categorization,\n\u001b[1;32m---> 22\u001b[1;33m                                          trainer, forecaster, deseasonize, steps_to_forecast)\n\u001b[0m\u001b[0;32m     23\u001b[0m         \u001b[0mscore\u001b[0m \u001b[1;33m=\u001b[0m \u001b[0msmape\u001b[0m\u001b[1;33m(\u001b[0m\u001b[0mpredictions\u001b[0m\u001b[1;33m[\u001b[0m\u001b[1;34m'real_values'\u001b[0m\u001b[1;33m]\u001b[0m\u001b[1;33m,\u001b[0m \u001b[0mpredictions\u001b[0m\u001b[1;33m[\u001b[0m\u001b[1;34m'forecast'\u001b[0m\u001b[1;33m]\u001b[0m\u001b[1;33m)\u001b[0m\u001b[1;33m\u001b[0m\u001b[1;33m\u001b[0m\u001b[0m\n\u001b[0;32m     24\u001b[0m         results = {\n",
      "\u001b[1;32m<ipython-input-20-b44fc52f3f95>\u001b[0m in \u001b[0;36mtrain_and_forecast\u001b[1;34m(data, categorization, trainer, forecaster, deseasonize, steps_to_forecast)\u001b[0m\n\u001b[0;32m     34\u001b[0m \u001b[1;33m\u001b[0m\u001b[0m\n\u001b[0;32m     35\u001b[0m     \u001b[1;31m# train\u001b[0m\u001b[1;33m\u001b[0m\u001b[1;33m\u001b[0m\u001b[1;33m\u001b[0m\u001b[0m\n\u001b[1;32m---> 36\u001b[1;33m     \u001b[0mmodel\u001b[0m \u001b[1;33m=\u001b[0m \u001b[0mtrainer\u001b[0m\u001b[1;33m(\u001b[0m\u001b[0mdf_train\u001b[0m\u001b[1;33m)\u001b[0m\u001b[1;33m\u001b[0m\u001b[1;33m\u001b[0m\u001b[0m\n\u001b[0m\u001b[0;32m     37\u001b[0m \u001b[1;33m\u001b[0m\u001b[0m\n\u001b[0;32m     38\u001b[0m     \u001b[1;31m# forecast\u001b[0m\u001b[1;33m\u001b[0m\u001b[1;33m\u001b[0m\u001b[1;33m\u001b[0m\u001b[0m\n",
      "\u001b[1;32m<ipython-input-25-cfc1bee468ec>\u001b[0m in \u001b[0;36m<lambda>\u001b[1;34m(df)\u001b[0m\n\u001b[0;32m      1\u001b[0m \u001b[1;31m# create a trainer which can be use to train all of the models\u001b[0m\u001b[1;33m\u001b[0m\u001b[1;33m\u001b[0m\u001b[1;33m\u001b[0m\u001b[0m\n\u001b[0;32m      2\u001b[0m hw_trainer = lambda df: smt.ExponentialSmoothing(endog=df.loc[-365:,'sales'], damped=False,\n\u001b[1;32m----> 3\u001b[1;33m                          trend='add',seasonal='add', seasonal_periods=7).fit()\n\u001b[0m",
      "\u001b[1;32mD:\\python\\lib\\site-packages\\statsmodels\\tsa\\holtwinters.py\u001b[0m in \u001b[0;36mfit\u001b[1;34m(self, smoothing_level, smoothing_slope, smoothing_seasonal, damping_slope, optimized, use_boxcox, remove_bias, use_basinhopping)\u001b[0m\n\u001b[0;32m    584\u001b[0m                 \u001b[1;31m# solution to parameters\u001b[0m\u001b[1;33m\u001b[0m\u001b[1;33m\u001b[0m\u001b[1;33m\u001b[0m\u001b[0m\n\u001b[0;32m    585\u001b[0m                 res = minimize(func, p[xi], args=(\n\u001b[1;32m--> 586\u001b[1;33m                     xi, p, y, l, b, s, m, self.nobs, max_seen), bounds=bounds[xi])                \n\u001b[0m\u001b[0;32m    587\u001b[0m             \u001b[0mp\u001b[0m\u001b[1;33m[\u001b[0m\u001b[0mxi\u001b[0m\u001b[1;33m]\u001b[0m \u001b[1;33m=\u001b[0m \u001b[0mres\u001b[0m\u001b[1;33m.\u001b[0m\u001b[0mx\u001b[0m\u001b[1;33m\u001b[0m\u001b[1;33m\u001b[0m\u001b[0m\n\u001b[0;32m    588\u001b[0m             \u001b[1;33m[\u001b[0m\u001b[0malpha\u001b[0m\u001b[1;33m,\u001b[0m \u001b[0mbeta\u001b[0m\u001b[1;33m,\u001b[0m \u001b[0mgamma\u001b[0m\u001b[1;33m,\u001b[0m \u001b[0ml0\u001b[0m\u001b[1;33m,\u001b[0m \u001b[0mb0\u001b[0m\u001b[1;33m,\u001b[0m \u001b[0mphi\u001b[0m\u001b[1;33m]\u001b[0m \u001b[1;33m=\u001b[0m \u001b[0mp\u001b[0m\u001b[1;33m[\u001b[0m\u001b[1;33m:\u001b[0m\u001b[1;36m6\u001b[0m\u001b[1;33m]\u001b[0m\u001b[1;33m\u001b[0m\u001b[1;33m\u001b[0m\u001b[0m\n",
      "\u001b[1;32mD:\\python\\lib\\site-packages\\scipy\\optimize\\_minimize.py\u001b[0m in \u001b[0;36mminimize\u001b[1;34m(fun, x0, args, method, jac, hess, hessp, bounds, constraints, tol, callback, options)\u001b[0m\n\u001b[0;32m    601\u001b[0m     \u001b[1;32melif\u001b[0m \u001b[0mmeth\u001b[0m \u001b[1;33m==\u001b[0m \u001b[1;34m'l-bfgs-b'\u001b[0m\u001b[1;33m:\u001b[0m\u001b[1;33m\u001b[0m\u001b[1;33m\u001b[0m\u001b[0m\n\u001b[0;32m    602\u001b[0m         return _minimize_lbfgsb(fun, x0, args, jac, bounds,\n\u001b[1;32m--> 603\u001b[1;33m                                 callback=callback, **options)\n\u001b[0m\u001b[0;32m    604\u001b[0m     \u001b[1;32melif\u001b[0m \u001b[0mmeth\u001b[0m \u001b[1;33m==\u001b[0m \u001b[1;34m'tnc'\u001b[0m\u001b[1;33m:\u001b[0m\u001b[1;33m\u001b[0m\u001b[1;33m\u001b[0m\u001b[0m\n\u001b[0;32m    605\u001b[0m         return _minimize_tnc(fun, x0, args, jac, bounds, callback=callback,\n",
      "\u001b[1;32mD:\\python\\lib\\site-packages\\scipy\\optimize\\lbfgsb.py\u001b[0m in \u001b[0;36m_minimize_lbfgsb\u001b[1;34m(fun, x0, args, jac, bounds, disp, maxcor, ftol, gtol, eps, maxfun, maxiter, iprint, callback, maxls, **unknown_options)\u001b[0m\n\u001b[0;32m    333\u001b[0m             \u001b[1;31m# until the completion of the current minimization iteration.\u001b[0m\u001b[1;33m\u001b[0m\u001b[1;33m\u001b[0m\u001b[1;33m\u001b[0m\u001b[0m\n\u001b[0;32m    334\u001b[0m             \u001b[1;31m# Overwrite f and g:\u001b[0m\u001b[1;33m\u001b[0m\u001b[1;33m\u001b[0m\u001b[1;33m\u001b[0m\u001b[0m\n\u001b[1;32m--> 335\u001b[1;33m             \u001b[0mf\u001b[0m\u001b[1;33m,\u001b[0m \u001b[0mg\u001b[0m \u001b[1;33m=\u001b[0m \u001b[0mfunc_and_grad\u001b[0m\u001b[1;33m(\u001b[0m\u001b[0mx\u001b[0m\u001b[1;33m)\u001b[0m\u001b[1;33m\u001b[0m\u001b[1;33m\u001b[0m\u001b[0m\n\u001b[0m\u001b[0;32m    336\u001b[0m         \u001b[1;32melif\u001b[0m \u001b[0mtask_str\u001b[0m\u001b[1;33m.\u001b[0m\u001b[0mstartswith\u001b[0m\u001b[1;33m(\u001b[0m\u001b[1;34mb'NEW_X'\u001b[0m\u001b[1;33m)\u001b[0m\u001b[1;33m:\u001b[0m\u001b[1;33m\u001b[0m\u001b[1;33m\u001b[0m\u001b[0m\n\u001b[0;32m    337\u001b[0m             \u001b[1;31m# new iteration\u001b[0m\u001b[1;33m\u001b[0m\u001b[1;33m\u001b[0m\u001b[1;33m\u001b[0m\u001b[0m\n",
      "\u001b[1;32mD:\\python\\lib\\site-packages\\scipy\\optimize\\lbfgsb.py\u001b[0m in \u001b[0;36mfunc_and_grad\u001b[1;34m(x)\u001b[0m\n\u001b[0;32m    279\u001b[0m         \u001b[1;32mdef\u001b[0m \u001b[0mfunc_and_grad\u001b[0m\u001b[1;33m(\u001b[0m\u001b[0mx\u001b[0m\u001b[1;33m)\u001b[0m\u001b[1;33m:\u001b[0m\u001b[1;33m\u001b[0m\u001b[1;33m\u001b[0m\u001b[0m\n\u001b[0;32m    280\u001b[0m             \u001b[0mf\u001b[0m \u001b[1;33m=\u001b[0m \u001b[0mfun\u001b[0m\u001b[1;33m(\u001b[0m\u001b[0mx\u001b[0m\u001b[1;33m,\u001b[0m \u001b[1;33m*\u001b[0m\u001b[0margs\u001b[0m\u001b[1;33m)\u001b[0m\u001b[1;33m\u001b[0m\u001b[1;33m\u001b[0m\u001b[0m\n\u001b[1;32m--> 281\u001b[1;33m             \u001b[0mg\u001b[0m \u001b[1;33m=\u001b[0m \u001b[0m_approx_fprime_helper\u001b[0m\u001b[1;33m(\u001b[0m\u001b[0mx\u001b[0m\u001b[1;33m,\u001b[0m \u001b[0mfun\u001b[0m\u001b[1;33m,\u001b[0m \u001b[0mepsilon\u001b[0m\u001b[1;33m,\u001b[0m \u001b[0margs\u001b[0m\u001b[1;33m=\u001b[0m\u001b[0margs\u001b[0m\u001b[1;33m,\u001b[0m \u001b[0mf0\u001b[0m\u001b[1;33m=\u001b[0m\u001b[0mf\u001b[0m\u001b[1;33m)\u001b[0m\u001b[1;33m\u001b[0m\u001b[1;33m\u001b[0m\u001b[0m\n\u001b[0m\u001b[0;32m    282\u001b[0m             \u001b[1;32mreturn\u001b[0m \u001b[0mf\u001b[0m\u001b[1;33m,\u001b[0m \u001b[0mg\u001b[0m\u001b[1;33m\u001b[0m\u001b[1;33m\u001b[0m\u001b[0m\n\u001b[0;32m    283\u001b[0m     \u001b[1;32melse\u001b[0m\u001b[1;33m:\u001b[0m\u001b[1;33m\u001b[0m\u001b[1;33m\u001b[0m\u001b[0m\n",
      "\u001b[1;32mD:\\python\\lib\\site-packages\\scipy\\optimize\\optimize.py\u001b[0m in \u001b[0;36m_approx_fprime_helper\u001b[1;34m(xk, f, epsilon, args, f0)\u001b[0m\n\u001b[0;32m    661\u001b[0m         \u001b[0mei\u001b[0m\u001b[1;33m[\u001b[0m\u001b[0mk\u001b[0m\u001b[1;33m]\u001b[0m \u001b[1;33m=\u001b[0m \u001b[1;36m1.0\u001b[0m\u001b[1;33m\u001b[0m\u001b[1;33m\u001b[0m\u001b[0m\n\u001b[0;32m    662\u001b[0m         \u001b[0md\u001b[0m \u001b[1;33m=\u001b[0m \u001b[0mepsilon\u001b[0m \u001b[1;33m*\u001b[0m \u001b[0mei\u001b[0m\u001b[1;33m\u001b[0m\u001b[1;33m\u001b[0m\u001b[0m\n\u001b[1;32m--> 663\u001b[1;33m         \u001b[0mgrad\u001b[0m\u001b[1;33m[\u001b[0m\u001b[0mk\u001b[0m\u001b[1;33m]\u001b[0m \u001b[1;33m=\u001b[0m \u001b[1;33m(\u001b[0m\u001b[0mf\u001b[0m\u001b[1;33m(\u001b[0m\u001b[1;33m*\u001b[0m\u001b[1;33m(\u001b[0m\u001b[1;33m(\u001b[0m\u001b[0mxk\u001b[0m \u001b[1;33m+\u001b[0m \u001b[0md\u001b[0m\u001b[1;33m,\u001b[0m\u001b[1;33m)\u001b[0m \u001b[1;33m+\u001b[0m \u001b[0margs\u001b[0m\u001b[1;33m)\u001b[0m\u001b[1;33m)\u001b[0m \u001b[1;33m-\u001b[0m \u001b[0mf0\u001b[0m\u001b[1;33m)\u001b[0m \u001b[1;33m/\u001b[0m \u001b[0md\u001b[0m\u001b[1;33m[\u001b[0m\u001b[0mk\u001b[0m\u001b[1;33m]\u001b[0m\u001b[1;33m\u001b[0m\u001b[1;33m\u001b[0m\u001b[0m\n\u001b[0m\u001b[0;32m    664\u001b[0m         \u001b[0mei\u001b[0m\u001b[1;33m[\u001b[0m\u001b[0mk\u001b[0m\u001b[1;33m]\u001b[0m \u001b[1;33m=\u001b[0m \u001b[1;36m0.0\u001b[0m\u001b[1;33m\u001b[0m\u001b[1;33m\u001b[0m\u001b[0m\n\u001b[0;32m    665\u001b[0m     \u001b[1;32mreturn\u001b[0m \u001b[0mgrad\u001b[0m\u001b[1;33m\u001b[0m\u001b[1;33m\u001b[0m\u001b[0m\n",
      "\u001b[1;32mD:\\python\\lib\\site-packages\\scipy\\optimize\\optimize.py\u001b[0m in \u001b[0;36mfunction_wrapper\u001b[1;34m(*wrapper_args)\u001b[0m\n\u001b[0;32m    291\u001b[0m     \u001b[1;32mdef\u001b[0m \u001b[0mfunction_wrapper\u001b[0m\u001b[1;33m(\u001b[0m\u001b[1;33m*\u001b[0m\u001b[0mwrapper_args\u001b[0m\u001b[1;33m)\u001b[0m\u001b[1;33m:\u001b[0m\u001b[1;33m\u001b[0m\u001b[1;33m\u001b[0m\u001b[0m\n\u001b[0;32m    292\u001b[0m         \u001b[0mncalls\u001b[0m\u001b[1;33m[\u001b[0m\u001b[1;36m0\u001b[0m\u001b[1;33m]\u001b[0m \u001b[1;33m+=\u001b[0m \u001b[1;36m1\u001b[0m\u001b[1;33m\u001b[0m\u001b[1;33m\u001b[0m\u001b[0m\n\u001b[1;32m--> 293\u001b[1;33m         \u001b[1;32mreturn\u001b[0m \u001b[0mfunction\u001b[0m\u001b[1;33m(\u001b[0m\u001b[1;33m*\u001b[0m\u001b[1;33m(\u001b[0m\u001b[0mwrapper_args\u001b[0m \u001b[1;33m+\u001b[0m \u001b[0margs\u001b[0m\u001b[1;33m)\u001b[0m\u001b[1;33m)\u001b[0m\u001b[1;33m\u001b[0m\u001b[1;33m\u001b[0m\u001b[0m\n\u001b[0m\u001b[0;32m    294\u001b[0m \u001b[1;33m\u001b[0m\u001b[0m\n\u001b[0;32m    295\u001b[0m     \u001b[1;32mreturn\u001b[0m \u001b[0mncalls\u001b[0m\u001b[1;33m,\u001b[0m \u001b[0mfunction_wrapper\u001b[0m\u001b[1;33m\u001b[0m\u001b[1;33m\u001b[0m\u001b[0m\n",
      "\u001b[1;32mD:\\python\\lib\\site-packages\\statsmodels\\tsa\\holtwinters.py\u001b[0m in \u001b[0;36m_holt_win_add_add_dam\u001b[1;34m(x, xi, p, y, l, b, s, m, n, max_seen)\u001b[0m\n\u001b[0;32m    202\u001b[0m         \u001b[0ml\u001b[0m\u001b[1;33m[\u001b[0m\u001b[0mi\u001b[0m\u001b[1;33m]\u001b[0m \u001b[1;33m=\u001b[0m \u001b[1;33m(\u001b[0m\u001b[0my_alpha\u001b[0m\u001b[1;33m[\u001b[0m\u001b[0mi\u001b[0m \u001b[1;33m-\u001b[0m \u001b[1;36m1\u001b[0m\u001b[1;33m]\u001b[0m\u001b[1;33m)\u001b[0m \u001b[1;33m-\u001b[0m \u001b[1;33m(\u001b[0m\u001b[0malpha\u001b[0m \u001b[1;33m*\u001b[0m \u001b[0ms\u001b[0m\u001b[1;33m[\u001b[0m\u001b[0mi\u001b[0m \u001b[1;33m-\u001b[0m \u001b[1;36m1\u001b[0m\u001b[1;33m]\u001b[0m\u001b[1;33m)\u001b[0m \u001b[1;33m+\u001b[0m\u001b[0;31m \u001b[0m\u001b[0;31m\\\u001b[0m\u001b[1;33m\u001b[0m\u001b[1;33m\u001b[0m\u001b[0m\n\u001b[0;32m    203\u001b[0m             \u001b[1;33m(\u001b[0m\u001b[0malphac\u001b[0m \u001b[1;33m*\u001b[0m \u001b[1;33m(\u001b[0m\u001b[0ml\u001b[0m\u001b[1;33m[\u001b[0m\u001b[0mi\u001b[0m \u001b[1;33m-\u001b[0m \u001b[1;36m1\u001b[0m\u001b[1;33m]\u001b[0m \u001b[1;33m+\u001b[0m \u001b[0mphi\u001b[0m \u001b[1;33m*\u001b[0m \u001b[0mb\u001b[0m\u001b[1;33m[\u001b[0m\u001b[0mi\u001b[0m \u001b[1;33m-\u001b[0m \u001b[1;36m1\u001b[0m\u001b[1;33m]\u001b[0m\u001b[1;33m)\u001b[0m\u001b[1;33m)\u001b[0m\u001b[1;33m\u001b[0m\u001b[1;33m\u001b[0m\u001b[0m\n\u001b[1;32m--> 204\u001b[1;33m         \u001b[0mb\u001b[0m\u001b[1;33m[\u001b[0m\u001b[0mi\u001b[0m\u001b[1;33m]\u001b[0m \u001b[1;33m=\u001b[0m \u001b[1;33m(\u001b[0m\u001b[0mbeta\u001b[0m \u001b[1;33m*\u001b[0m \u001b[1;33m(\u001b[0m\u001b[0ml\u001b[0m\u001b[1;33m[\u001b[0m\u001b[0mi\u001b[0m\u001b[1;33m]\u001b[0m \u001b[1;33m-\u001b[0m \u001b[0ml\u001b[0m\u001b[1;33m[\u001b[0m\u001b[0mi\u001b[0m \u001b[1;33m-\u001b[0m \u001b[1;36m1\u001b[0m\u001b[1;33m]\u001b[0m\u001b[1;33m)\u001b[0m\u001b[1;33m)\u001b[0m \u001b[1;33m+\u001b[0m \u001b[1;33m(\u001b[0m\u001b[0mbetac\u001b[0m \u001b[1;33m*\u001b[0m \u001b[0mphi\u001b[0m \u001b[1;33m*\u001b[0m \u001b[0mb\u001b[0m\u001b[1;33m[\u001b[0m\u001b[0mi\u001b[0m \u001b[1;33m-\u001b[0m \u001b[1;36m1\u001b[0m\u001b[1;33m]\u001b[0m\u001b[1;33m)\u001b[0m\u001b[1;33m\u001b[0m\u001b[1;33m\u001b[0m\u001b[0m\n\u001b[0m\u001b[0;32m    205\u001b[0m         \u001b[0ms\u001b[0m\u001b[1;33m[\u001b[0m\u001b[0mi\u001b[0m \u001b[1;33m+\u001b[0m \u001b[0mm\u001b[0m \u001b[1;33m-\u001b[0m \u001b[1;36m1\u001b[0m\u001b[1;33m]\u001b[0m \u001b[1;33m=\u001b[0m \u001b[0my_gamma\u001b[0m\u001b[1;33m[\u001b[0m\u001b[0mi\u001b[0m \u001b[1;33m-\u001b[0m \u001b[1;36m1\u001b[0m\u001b[1;33m]\u001b[0m \u001b[1;33m-\u001b[0m\u001b[0;31m \u001b[0m\u001b[0;31m\\\u001b[0m\u001b[1;33m\u001b[0m\u001b[1;33m\u001b[0m\u001b[0m\n\u001b[0;32m    206\u001b[0m             \u001b[1;33m(\u001b[0m\u001b[0mgamma\u001b[0m \u001b[1;33m*\u001b[0m \u001b[1;33m(\u001b[0m\u001b[0ml\u001b[0m\u001b[1;33m[\u001b[0m\u001b[0mi\u001b[0m \u001b[1;33m-\u001b[0m \u001b[1;36m1\u001b[0m\u001b[1;33m]\u001b[0m \u001b[1;33m+\u001b[0m \u001b[0mphi\u001b[0m \u001b[1;33m*\u001b[0m \u001b[0mb\u001b[0m\u001b[1;33m[\u001b[0m\u001b[0mi\u001b[0m \u001b[1;33m-\u001b[0m \u001b[1;36m1\u001b[0m\u001b[1;33m]\u001b[0m\u001b[1;33m)\u001b[0m\u001b[1;33m)\u001b[0m \u001b[1;33m+\u001b[0m \u001b[1;33m(\u001b[0m\u001b[0mgammac\u001b[0m \u001b[1;33m*\u001b[0m \u001b[0ms\u001b[0m\u001b[1;33m[\u001b[0m\u001b[0mi\u001b[0m \u001b[1;33m-\u001b[0m \u001b[1;36m1\u001b[0m\u001b[1;33m]\u001b[0m\u001b[1;33m)\u001b[0m\u001b[1;33m\u001b[0m\u001b[1;33m\u001b[0m\u001b[0m\n",
      "\u001b[1;31mKeyboardInterrupt\u001b[0m: "
     ]
    }
   ],
   "source": [
    "hw_results, hw_smape = compute_all_models(store_item_data, ids, categorize_by_week_of_year,\n",
    "                                         hw_trainer, hw_forecaster, False)\n",
    "print(\"Holt Winters method SMAPE on the validation set: \", hw_smape)"
   ]
  },
  {
   "cell_type": "markdown",
   "metadata": {},
   "source": [
    "## SARIMA"
   ]
  },
  {
   "cell_type": "code",
   "execution_count": null,
   "metadata": {},
   "outputs": [],
   "source": [
    "# create a trainer which can be use to grid search and train all of the models\n",
    "arima_trainer = lambda df: auto_arima(df.loc[-365:,'sales'], m=7, n_jobs=1, max_p=7, max_q=7, max_P=7,\n",
    "                          max_Q=7, max_order=12, trend='c', max_iter=100,\n",
    "                          trace=False, error_action='ignore', suppress_warnings=True,\n",
    "                          stepwise=True, random=False, n_fits=40, random_state=44443)\n"
   ]
  },
  {
   "cell_type": "code",
   "execution_count": null,
   "metadata": {},
   "outputs": [],
   "source": [
    "# create a forecaster function to get the forcasts from all of the models\n",
    "arima_forecaster = lambda model, steps: model.predict(steps)"
   ]
  },
  {
   "cell_type": "code",
   "execution_count": null,
   "metadata": {
    "scrolled": true
   },
   "outputs": [],
   "source": [
    "sarima_results, sarima_smape = compute_all_models(store_item_data, ids, categorize_by_week_of_year,\n",
    "                                         arima_trainer, arima_forecaster, True)\n",
    "print(\"SARIMA model SMAPE on the validation set: \", sarima_smape)"
   ]
  },
  {
   "cell_type": "markdown",
   "metadata": {},
   "source": [
    "## VAR"
   ]
  },
  {
   "cell_type": "code",
   "execution_count": 34,
   "metadata": {},
   "outputs": [],
   "source": [
    "def var_train_and_forecast(data_train, data_validation, categorization, max_lags=16,ic='aic',\n",
    "                            plots=False):\n",
    "    \"\"\"\n",
    "    Apply deseasonalization and differencing to the time series and\n",
    "    create VAR model with optimal number of lags, make forecast and compute smape\n",
    "    \n",
    "    :param data_train: training multivariete time series\n",
    "    :param data_validation: validation  multivariete time series\n",
    "    :param max_lags: maximum number of lags in VAR model\n",
    "    :type max_lags: int\n",
    "    :param ic: information criterion used to choose best VAR model\n",
    "    :param plots: if True  forecast vs real_values plot will be printed\n",
    "    \n",
    "    returns: smape metric\n",
    "    \"\"\"\n",
    "    \n",
    "    #DESEASONALIZATION\n",
    "    data_train_deseasonalized = pd.DataFrame()\n",
    "    seasonalized_all = pd.DataFrame()\n",
    "\n",
    "    for col in  data_train.columns.values:\n",
    "        seasonalized_all[col] = compute_seasonality(data_train[col], categorization)\n",
    "        series = remove_seasonal_component(data_train[col], categorization, seasonalized_all[col])\n",
    "        data_train_deseasonalized[col] = series\n",
    "    data_train_deseasonalized.index = pd.DatetimeIndex(start=\"01-01-2013\",\n",
    "                                                       periods=1461, freq='D')\n",
    "    \n",
    "    #TIME SERIES DIFFERENCING\n",
    "    data_train_deseasonalized_differenced = data_train_deseasonalized.diff().iloc[1:]\n",
    "    data_train_deseasonalized_differenced = data_train_deseasonalized_differenced.asfreq('D')\n",
    "    \n",
    "    #MODELING\n",
    "    var_model = smt.VAR(data_train_deseasonalized_differenced,\n",
    "                        dates=data_train_deseasonalized_differenced.index)\n",
    "    \n",
    "    var_model_results = var_model.fit(maxlags=max_lags, ic=ic, verbose=True)\n",
    "    lags = var_model_results.k_ar\n",
    "    \n",
    "    #FORECASTING\n",
    "    forecast = pd.DataFrame(var_model_results.forecast(\n",
    "                            data_train_deseasonalized_differenced.values[-lags:], 90))\n",
    "    forecast.columns +=1\n",
    "    \n",
    "    #FORCAST REVERSE DIFFERENCING\n",
    "    var_forecast_diff = data_train_deseasonalized.tail(1)\n",
    "\n",
    "    var_forecast_diff = var_forecast_diff.append(forecast)\n",
    "    var_forecast = var_forecast_diff.cumsum().iloc[1:]\n",
    "    var_forecast.index = pd.DatetimeIndex(start='01-01-2017', periods=90, freq='D')\n",
    "    \n",
    "\n",
    "    \n",
    "    # FORCAST - APPLY SEASONALITY\n",
    "    corrected_forecast = pd.DataFrame()\n",
    "    for col in var_forecast.columns.values:\n",
    "        tmp_forecast = pd.DataFrame()\n",
    "        tmp_forecast = add_seasonal_component(var_forecast[col].copy(),\n",
    "                                        categorize_by_week_of_year,\n",
    "                                        seasonalized_all[col])\n",
    "        corrected_forecast[col] = tmp_forecast\n",
    "    corrected_forecast.index = pd.DatetimeIndex(start='01-01-2017', periods=90,freq='D')\n",
    "    \n",
    "    # forecast vs real_values plot\n",
    "    if plots:\n",
    "        plt.figure()\n",
    "        corrected_forecast.iloc[:,0].plot(figsize=(12,16), color='b')\n",
    "        data_validation.iloc[:90,0].plot(color='r')\n",
    "        plt.show()\n",
    "    smape = compute_avg_smape(df_y=data_validation.iloc[:90], df_y_pred=corrected_forecast)\n",
    "    print(smape)\n",
    "    return smape\n"
   ]
  },
  {
   "cell_type": "code",
   "execution_count": 35,
   "metadata": {},
   "outputs": [],
   "source": [
    "def evaluate_multiple_var (data, num_time_series):\n",
    "    \"\"\"\n",
    "    Compute and evaluate VAR model for every batch of multivariete time series\n",
    "    :param data: multiindexed columns dataframe with multivariete time series\n",
    "    :param number_of_series: number of mutivariete time series\n",
    "    :returns: average SMAPE metric\n",
    "    \"\"\"\n",
    "    smape_all = []\n",
    "    for i in range(1,num_time_series+1):\n",
    "        single_time_series = data.loc[:,i]\n",
    "    \n",
    "        single_time_series_train = single_time_series.iloc[:-365]\n",
    "        single_time_series_validation = single_time_series.iloc[-365:]\n",
    "    \n",
    "        smape = var_train_and_forecast(single_time_series_train, single_time_series_validation, categorize_by_week_of_year,\n",
    "                                    plots=False)\n",
    "        smape_all.append(smape)\n",
    "        \n",
    "    return smape_all"
   ]
  },
  {
   "cell_type": "markdown",
   "metadata": {},
   "source": [
    "#### Create a model for each store"
   ]
  },
  {
   "cell_type": "code",
   "execution_count": 36,
   "metadata": {},
   "outputs": [
    {
     "data": {
      "text/html": [
       "<div>\n",
       "<style scoped>\n",
       "    .dataframe tbody tr th:only-of-type {\n",
       "        vertical-align: middle;\n",
       "    }\n",
       "\n",
       "    .dataframe tbody tr th {\n",
       "        vertical-align: top;\n",
       "    }\n",
       "\n",
       "    .dataframe thead tr th {\n",
       "        text-align: left;\n",
       "    }\n",
       "\n",
       "    .dataframe thead tr:last-of-type th {\n",
       "        text-align: right;\n",
       "    }\n",
       "</style>\n",
       "<table border=\"1\" class=\"dataframe\">\n",
       "  <thead>\n",
       "    <tr>\n",
       "      <th>store</th>\n",
       "      <th colspan=\"6\" halign=\"left\">1</th>\n",
       "      <th>...</th>\n",
       "      <th colspan=\"6\" halign=\"left\">10</th>\n",
       "    </tr>\n",
       "    <tr>\n",
       "      <th>item</th>\n",
       "      <th>1</th>\n",
       "      <th>2</th>\n",
       "      <th>3</th>\n",
       "      <th>4</th>\n",
       "      <th>5</th>\n",
       "      <th>6</th>\n",
       "      <th>...</th>\n",
       "      <th>45</th>\n",
       "      <th>46</th>\n",
       "      <th>47</th>\n",
       "      <th>48</th>\n",
       "      <th>49</th>\n",
       "      <th>50</th>\n",
       "    </tr>\n",
       "    <tr>\n",
       "      <th>date</th>\n",
       "      <th></th>\n",
       "      <th></th>\n",
       "      <th></th>\n",
       "      <th></th>\n",
       "      <th></th>\n",
       "      <th></th>\n",
       "      <th></th>\n",
       "      <th></th>\n",
       "      <th></th>\n",
       "      <th></th>\n",
       "      <th></th>\n",
       "      <th></th>\n",
       "      <th></th>\n",
       "    </tr>\n",
       "  </thead>\n",
       "  <tbody>\n",
       "    <tr>\n",
       "      <th>2013-01-01</th>\n",
       "      <td>13</td>\n",
       "      <td>33</td>\n",
       "      <td>15</td>\n",
       "      <td>10</td>\n",
       "      <td>11</td>\n",
       "      <td>31</td>\n",
       "      <td>...</td>\n",
       "      <td>45</td>\n",
       "      <td>37</td>\n",
       "      <td>11</td>\n",
       "      <td>25</td>\n",
       "      <td>17</td>\n",
       "      <td>33</td>\n",
       "    </tr>\n",
       "    <tr>\n",
       "      <th>2013-01-02</th>\n",
       "      <td>11</td>\n",
       "      <td>43</td>\n",
       "      <td>30</td>\n",
       "      <td>11</td>\n",
       "      <td>6</td>\n",
       "      <td>36</td>\n",
       "      <td>...</td>\n",
       "      <td>45</td>\n",
       "      <td>33</td>\n",
       "      <td>13</td>\n",
       "      <td>24</td>\n",
       "      <td>13</td>\n",
       "      <td>37</td>\n",
       "    </tr>\n",
       "    <tr>\n",
       "      <th>2013-01-03</th>\n",
       "      <td>14</td>\n",
       "      <td>23</td>\n",
       "      <td>14</td>\n",
       "      <td>8</td>\n",
       "      <td>8</td>\n",
       "      <td>18</td>\n",
       "      <td>...</td>\n",
       "      <td>56</td>\n",
       "      <td>28</td>\n",
       "      <td>16</td>\n",
       "      <td>29</td>\n",
       "      <td>19</td>\n",
       "      <td>46</td>\n",
       "    </tr>\n",
       "    <tr>\n",
       "      <th>2013-01-04</th>\n",
       "      <td>13</td>\n",
       "      <td>18</td>\n",
       "      <td>10</td>\n",
       "      <td>19</td>\n",
       "      <td>9</td>\n",
       "      <td>19</td>\n",
       "      <td>...</td>\n",
       "      <td>50</td>\n",
       "      <td>44</td>\n",
       "      <td>11</td>\n",
       "      <td>39</td>\n",
       "      <td>23</td>\n",
       "      <td>51</td>\n",
       "    </tr>\n",
       "    <tr>\n",
       "      <th>2013-01-05</th>\n",
       "      <td>10</td>\n",
       "      <td>34</td>\n",
       "      <td>23</td>\n",
       "      <td>12</td>\n",
       "      <td>8</td>\n",
       "      <td>31</td>\n",
       "      <td>...</td>\n",
       "      <td>62</td>\n",
       "      <td>45</td>\n",
       "      <td>16</td>\n",
       "      <td>34</td>\n",
       "      <td>22</td>\n",
       "      <td>41</td>\n",
       "    </tr>\n",
       "  </tbody>\n",
       "</table>\n",
       "<p>5 rows × 500 columns</p>\n",
       "</div>"
      ],
      "text/plain": [
       "store       1                      ...  10                    \n",
       "item        1   2   3   4   5   6  ...  45  46  47  48  49  50\n",
       "date                               ...                        \n",
       "2013-01-01  13  33  15  10  11  31 ...  45  37  11  25  17  33\n",
       "2013-01-02  11  43  30  11   6  36 ...  45  33  13  24  13  37\n",
       "2013-01-03  14  23  14   8   8  18 ...  56  28  16  29  19  46\n",
       "2013-01-04  13  18  10  19   9  19 ...  50  44  11  39  23  51\n",
       "2013-01-05  10  34  23  12   8  31 ...  62  45  16  34  22  41\n",
       "\n",
       "[5 rows x 500 columns]"
      ]
     },
     "execution_count": 36,
     "metadata": {},
     "output_type": "execute_result"
    }
   ],
   "source": [
    "stores_time_series = pd.pivot_table(\n",
    "    columns=['store','item'], values='sales',\n",
    "    index=store_item_data.index, data=store_item_data).asfreq('D')\n",
    "stores_time_series.head()"
   ]
  },
  {
   "cell_type": "code",
   "execution_count": 37,
   "metadata": {
    "scrolled": true
   },
   "outputs": [
    {
     "name": "stdout",
     "output_type": "stream",
     "text": [
      "<statsmodels.tsa.vector_ar.var_model.LagOrderResults object. Selected orders are: AIC -> 16, BIC -> 1, FPE -> 6, HQIC -> 2>\n",
      "Using 16 based on aic criterion\n",
      "0.16141944232734254\n",
      "<statsmodels.tsa.vector_ar.var_model.LagOrderResults object. Selected orders are: AIC -> 16, BIC -> 1, FPE -> 6, HQIC -> 2>\n",
      "Using 16 based on aic criterion\n",
      "0.13758328818926086\n",
      "<statsmodels.tsa.vector_ar.var_model.LagOrderResults object. Selected orders are: AIC -> 16, BIC -> 1, FPE -> 6, HQIC -> 2>\n",
      "Using 16 based on aic criterion\n",
      "0.1526445758664325\n",
      "<statsmodels.tsa.vector_ar.var_model.LagOrderResults object. Selected orders are: AIC -> 16, BIC -> 1, FPE -> 6, HQIC -> 2>\n",
      "Using 16 based on aic criterion\n",
      "0.15339676809920877\n",
      "<statsmodels.tsa.vector_ar.var_model.LagOrderResults object. Selected orders are: AIC -> 16, BIC -> 1, FPE -> 6, HQIC -> 2>\n",
      "Using 16 based on aic criterion\n",
      "0.1740615581525047\n",
      "<statsmodels.tsa.vector_ar.var_model.LagOrderResults object. Selected orders are: AIC -> 16, BIC -> 1, FPE -> 6, HQIC -> 2>\n",
      "Using 16 based on aic criterion\n",
      "0.1755409388819719\n",
      "<statsmodels.tsa.vector_ar.var_model.LagOrderResults object. Selected orders are: AIC -> 16, BIC -> 1, FPE -> 6, HQIC -> 2>\n",
      "Using 16 based on aic criterion\n",
      "0.18497158371207476\n",
      "<statsmodels.tsa.vector_ar.var_model.LagOrderResults object. Selected orders are: AIC -> 16, BIC -> 1, FPE -> 6, HQIC -> 2>\n",
      "Using 16 based on aic criterion\n",
      "0.14089213981292045\n",
      "<statsmodels.tsa.vector_ar.var_model.LagOrderResults object. Selected orders are: AIC -> 16, BIC -> 1, FPE -> 6, HQIC -> 2>\n",
      "Using 16 based on aic criterion\n",
      "0.156854674895942\n",
      "<statsmodels.tsa.vector_ar.var_model.LagOrderResults object. Selected orders are: AIC -> 16, BIC -> 1, FPE -> 6, HQIC -> 2>\n",
      "Using 16 based on aic criterion\n",
      "0.1503180686543904\n"
     ]
    }
   ],
   "source": [
    "all_stores_smape = evaluate_multiple_var(stores_time_series, number_of_stores)  "
   ]
  },
  {
   "cell_type": "code",
   "execution_count": 38,
   "metadata": {
    "scrolled": true
   },
   "outputs": [
    {
     "data": {
      "image/png": "[encoded data removed]",
      "text/plain": [
       "<Figure size 432x288 with 1 Axes>"
      ]
     },
     "metadata": {},
     "output_type": "display_data"
    }
   ],
   "source": [
    "sns.distplot(all_stores_smape)\n",
    "plt.show()"
   ]
  },
  {
   "cell_type": "code",
   "execution_count": 39,
   "metadata": {},
   "outputs": [
    {
     "data": {
      "text/plain": [
       "DescribeResult(nobs=10, minmax=(0.13758328818926086, 0.18497158371207476), mean=0.15876830385920487, variance=0.00023540326049256566, skewness=0.3271973487275687, kurtosis=-0.9587751430852021)"
      ]
     },
     "execution_count": 39,
     "metadata": {},
     "output_type": "execute_result"
    }
   ],
   "source": [
    "describe(all_stores_smape)"
   ]
  },
  {
   "cell_type": "markdown",
   "metadata": {},
   "source": [
    "#### Create a model for each item"
   ]
  },
  {
   "cell_type": "code",
   "execution_count": 40,
   "metadata": {},
   "outputs": [
    {
     "data": {
      "text/html": [
       "<div>\n",
       "<style scoped>\n",
       "    .dataframe tbody tr th:only-of-type {\n",
       "        vertical-align: middle;\n",
       "    }\n",
       "\n",
       "    .dataframe tbody tr th {\n",
       "        vertical-align: top;\n",
       "    }\n",
       "\n",
       "    .dataframe thead tr th {\n",
       "        text-align: left;\n",
       "    }\n",
       "\n",
       "    .dataframe thead tr:last-of-type th {\n",
       "        text-align: right;\n",
       "    }\n",
       "</style>\n",
       "<table border=\"1\" class=\"dataframe\">\n",
       "  <thead>\n",
       "    <tr>\n",
       "      <th>item</th>\n",
       "      <th colspan=\"6\" halign=\"left\">1</th>\n",
       "      <th>...</th>\n",
       "      <th colspan=\"6\" halign=\"left\">50</th>\n",
       "    </tr>\n",
       "    <tr>\n",
       "      <th>store</th>\n",
       "      <th>1</th>\n",
       "      <th>2</th>\n",
       "      <th>3</th>\n",
       "      <th>4</th>\n",
       "      <th>5</th>\n",
       "      <th>6</th>\n",
       "      <th>...</th>\n",
       "      <th>5</th>\n",
       "      <th>6</th>\n",
       "      <th>7</th>\n",
       "      <th>8</th>\n",
       "      <th>9</th>\n",
       "      <th>10</th>\n",
       "    </tr>\n",
       "    <tr>\n",
       "      <th>date</th>\n",
       "      <th></th>\n",
       "      <th></th>\n",
       "      <th></th>\n",
       "      <th></th>\n",
       "      <th></th>\n",
       "      <th></th>\n",
       "      <th></th>\n",
       "      <th></th>\n",
       "      <th></th>\n",
       "      <th></th>\n",
       "      <th></th>\n",
       "      <th></th>\n",
       "      <th></th>\n",
       "    </tr>\n",
       "  </thead>\n",
       "  <tbody>\n",
       "    <tr>\n",
       "      <th>2013-01-01</th>\n",
       "      <td>13</td>\n",
       "      <td>12</td>\n",
       "      <td>19</td>\n",
       "      <td>10</td>\n",
       "      <td>11</td>\n",
       "      <td>20</td>\n",
       "      <td>...</td>\n",
       "      <td>19</td>\n",
       "      <td>20</td>\n",
       "      <td>21</td>\n",
       "      <td>45</td>\n",
       "      <td>36</td>\n",
       "      <td>33</td>\n",
       "    </tr>\n",
       "    <tr>\n",
       "      <th>2013-01-02</th>\n",
       "      <td>11</td>\n",
       "      <td>16</td>\n",
       "      <td>8</td>\n",
       "      <td>12</td>\n",
       "      <td>9</td>\n",
       "      <td>6</td>\n",
       "      <td>...</td>\n",
       "      <td>25</td>\n",
       "      <td>23</td>\n",
       "      <td>30</td>\n",
       "      <td>54</td>\n",
       "      <td>44</td>\n",
       "      <td>37</td>\n",
       "    </tr>\n",
       "    <tr>\n",
       "      <th>2013-01-03</th>\n",
       "      <td>14</td>\n",
       "      <td>16</td>\n",
       "      <td>10</td>\n",
       "      <td>8</td>\n",
       "      <td>12</td>\n",
       "      <td>11</td>\n",
       "      <td>...</td>\n",
       "      <td>28</td>\n",
       "      <td>38</td>\n",
       "      <td>20</td>\n",
       "      <td>54</td>\n",
       "      <td>29</td>\n",
       "      <td>46</td>\n",
       "    </tr>\n",
       "    <tr>\n",
       "      <th>2013-01-04</th>\n",
       "      <td>13</td>\n",
       "      <td>20</td>\n",
       "      <td>15</td>\n",
       "      <td>15</td>\n",
       "      <td>8</td>\n",
       "      <td>7</td>\n",
       "      <td>...</td>\n",
       "      <td>27</td>\n",
       "      <td>33</td>\n",
       "      <td>27</td>\n",
       "      <td>52</td>\n",
       "      <td>43</td>\n",
       "      <td>51</td>\n",
       "    </tr>\n",
       "    <tr>\n",
       "      <th>2013-01-05</th>\n",
       "      <td>10</td>\n",
       "      <td>16</td>\n",
       "      <td>22</td>\n",
       "      <td>19</td>\n",
       "      <td>13</td>\n",
       "      <td>12</td>\n",
       "      <td>...</td>\n",
       "      <td>31</td>\n",
       "      <td>33</td>\n",
       "      <td>18</td>\n",
       "      <td>48</td>\n",
       "      <td>53</td>\n",
       "      <td>41</td>\n",
       "    </tr>\n",
       "  </tbody>\n",
       "</table>\n",
       "<p>5 rows × 500 columns</p>\n",
       "</div>"
      ],
      "text/plain": [
       "item        1                      ...  50                    \n",
       "store       1   2   3   4   5   6  ...  5   6   7   8   9   10\n",
       "date                               ...                        \n",
       "2013-01-01  13  12  19  10  11  20 ...  19  20  21  45  36  33\n",
       "2013-01-02  11  16   8  12   9   6 ...  25  23  30  54  44  37\n",
       "2013-01-03  14  16  10   8  12  11 ...  28  38  20  54  29  46\n",
       "2013-01-04  13  20  15  15   8   7 ...  27  33  27  52  43  51\n",
       "2013-01-05  10  16  22  19  13  12 ...  31  33  18  48  53  41\n",
       "\n",
       "[5 rows x 500 columns]"
      ]
     },
     "execution_count": 40,
     "metadata": {},
     "output_type": "execute_result"
    }
   ],
   "source": [
    "items_time_series = pd.pivot_table(\n",
    "    columns=['item','store'], values='sales',\n",
    "    index=store_item_data.index, data=store_item_data).asfreq('D')\n",
    "items_time_series.head()"
   ]
  },
  {
   "cell_type": "code",
   "execution_count": 41,
   "metadata": {
    "scrolled": true
   },
   "outputs": [
    {
     "name": "stdout",
     "output_type": "stream",
     "text": [
      "<statsmodels.tsa.vector_ar.var_model.LagOrderResults object. Selected orders are: AIC -> 13, BIC -> 6, FPE -> 13, HQIC -> 6>\n",
      "Using 13 based on aic criterion\n",
      "0.2043320424047193\n",
      "<statsmodels.tsa.vector_ar.var_model.LagOrderResults object. Selected orders are: AIC -> 15, BIC -> 6, FPE -> 15, HQIC -> 6>\n",
      "Using 15 based on aic criterion\n",
      "0.1344520268999615\n",
      "<statsmodels.tsa.vector_ar.var_model.LagOrderResults object. Selected orders are: AIC -> 13, BIC -> 6, FPE -> 13, HQIC -> 6>\n",
      "Using 13 based on aic criterion\n",
      "0.1574192353615655\n",
      "<statsmodels.tsa.vector_ar.var_model.LagOrderResults object. Selected orders are: AIC -> 13, BIC -> 6, FPE -> 13, HQIC -> 6>\n",
      "Using 13 based on aic criterion\n",
      "0.20120284034167052\n",
      "<statsmodels.tsa.vector_ar.var_model.LagOrderResults object. Selected orders are: AIC -> 14, BIC -> 6, FPE -> 14, HQIC -> 6>\n",
      "Using 14 based on aic criterion\n",
      "0.24970152598833356\n",
      "<statsmodels.tsa.vector_ar.var_model.LagOrderResults object. Selected orders are: AIC -> 13, BIC -> 6, FPE -> 13, HQIC -> 6>\n",
      "Using 13 based on aic criterion\n",
      "0.1294293342178636\n",
      "<statsmodels.tsa.vector_ar.var_model.LagOrderResults object. Selected orders are: AIC -> 13, BIC -> 6, FPE -> 13, HQIC -> 6>\n",
      "Using 13 based on aic criterion\n",
      "0.12863479551418694\n",
      "<statsmodels.tsa.vector_ar.var_model.LagOrderResults object. Selected orders are: AIC -> 13, BIC -> 6, FPE -> 13, HQIC -> 6>\n",
      "Using 13 based on aic criterion\n",
      "0.11866561463768477\n",
      "<statsmodels.tsa.vector_ar.var_model.LagOrderResults object. Selected orders are: AIC -> 13, BIC -> 6, FPE -> 13, HQIC -> 6>\n",
      "Using 13 based on aic criterion\n",
      "0.13768833942603126\n",
      "<statsmodels.tsa.vector_ar.var_model.LagOrderResults object. Selected orders are: AIC -> 14, BIC -> 6, FPE -> 14, HQIC -> 6>\n",
      "Using 14 based on aic criterion\n",
      "0.1128469921716954\n",
      "<statsmodels.tsa.vector_ar.var_model.LagOrderResults object. Selected orders are: AIC -> 14, BIC -> 6, FPE -> 14, HQIC -> 6>\n",
      "Using 14 based on aic criterion\n",
      "0.12012753168700636\n",
      "<statsmodels.tsa.vector_ar.var_model.LagOrderResults object. Selected orders are: AIC -> 13, BIC -> 6, FPE -> 13, HQIC -> 6>\n",
      "Using 13 based on aic criterion\n",
      "0.11787332996262463\n",
      "<statsmodels.tsa.vector_ar.var_model.LagOrderResults object. Selected orders are: AIC -> 13, BIC -> 6, FPE -> 13, HQIC -> 6>\n",
      "Using 13 based on aic criterion\n",
      "0.11491647120370836\n",
      "<statsmodels.tsa.vector_ar.var_model.LagOrderResults object. Selected orders are: AIC -> 13, BIC -> 6, FPE -> 13, HQIC -> 6>\n",
      "Using 13 based on aic criterion\n",
      "0.13187597914707153\n",
      "<statsmodels.tsa.vector_ar.var_model.LagOrderResults object. Selected orders are: AIC -> 13, BIC -> 6, FPE -> 13, HQIC -> 6>\n",
      "Using 13 based on aic criterion\n",
      "0.1079554425439\n",
      "<statsmodels.tsa.vector_ar.var_model.LagOrderResults object. Selected orders are: AIC -> 13, BIC -> 6, FPE -> 13, HQIC -> 6>\n",
      "Using 13 based on aic criterion\n",
      "0.19855118250488357\n",
      "<statsmodels.tsa.vector_ar.var_model.LagOrderResults object. Selected orders are: AIC -> 13, BIC -> 6, FPE -> 13, HQIC -> 6>\n",
      "Using 13 based on aic criterion\n",
      "0.1723317493868883\n",
      "<statsmodels.tsa.vector_ar.var_model.LagOrderResults object. Selected orders are: AIC -> 13, BIC -> 6, FPE -> 13, HQIC -> 6>\n",
      "Using 13 based on aic criterion\n",
      "0.11344391017057161\n",
      "<statsmodels.tsa.vector_ar.var_model.LagOrderResults object. Selected orders are: AIC -> 14, BIC -> 6, FPE -> 14, HQIC -> 6>\n",
      "Using 14 based on aic criterion\n",
      "0.15193098277727077\n",
      "<statsmodels.tsa.vector_ar.var_model.LagOrderResults object. Selected orders are: AIC -> 13, BIC -> 6, FPE -> 13, HQIC -> 6>\n",
      "Using 13 based on aic criterion\n",
      "0.14166204101891788\n",
      "<statsmodels.tsa.vector_ar.var_model.LagOrderResults object. Selected orders are: AIC -> 13, BIC -> 6, FPE -> 13, HQIC -> 6>\n",
      "Using 13 based on aic criterion\n",
      "0.16095980004545482\n",
      "<statsmodels.tsa.vector_ar.var_model.LagOrderResults object. Selected orders are: AIC -> 13, BIC -> 6, FPE -> 13, HQIC -> 6>\n",
      "Using 13 based on aic criterion\n",
      "0.11093603642335348\n",
      "<statsmodels.tsa.vector_ar.var_model.LagOrderResults object. Selected orders are: AIC -> 13, BIC -> 6, FPE -> 13, HQIC -> 6>\n",
      "Using 13 based on aic criterion\n",
      "0.18082361934901692\n",
      "<statsmodels.tsa.vector_ar.var_model.LagOrderResults object. Selected orders are: AIC -> 16, BIC -> 6, FPE -> 16, HQIC -> 6>\n",
      "Using 16 based on aic criterion\n",
      "0.12227766031454101\n",
      "<statsmodels.tsa.vector_ar.var_model.LagOrderResults object. Selected orders are: AIC -> 13, BIC -> 6, FPE -> 13, HQIC -> 6>\n",
      "Using 13 based on aic criterion\n",
      "0.10351964176964468\n",
      "<statsmodels.tsa.vector_ar.var_model.LagOrderResults object. Selected orders are: AIC -> 13, BIC -> 6, FPE -> 13, HQIC -> 6>\n",
      "Using 13 based on aic criterion\n",
      "0.1479295994250726\n",
      "<statsmodels.tsa.vector_ar.var_model.LagOrderResults object. Selected orders are: AIC -> 14, BIC -> 6, FPE -> 14, HQIC -> 6>\n",
      "Using 14 based on aic criterion\n",
      "0.20894285395589307\n",
      "<statsmodels.tsa.vector_ar.var_model.LagOrderResults object. Selected orders are: AIC -> 13, BIC -> 6, FPE -> 13, HQIC -> 7>\n",
      "Using 13 based on aic criterion\n",
      "0.10294431358820808\n",
      "<statsmodels.tsa.vector_ar.var_model.LagOrderResults object. Selected orders are: AIC -> 14, BIC -> 6, FPE -> 14, HQIC -> 6>\n",
      "Using 14 based on aic criterion\n",
      "0.12582718288542155\n",
      "<statsmodels.tsa.vector_ar.var_model.LagOrderResults object. Selected orders are: AIC -> 13, BIC -> 6, FPE -> 13, HQIC -> 6>\n",
      "Using 13 based on aic criterion\n",
      "0.15963237418646975\n",
      "<statsmodels.tsa.vector_ar.var_model.LagOrderResults object. Selected orders are: AIC -> 14, BIC -> 6, FPE -> 14, HQIC -> 6>\n",
      "Using 14 based on aic criterion\n",
      "0.13219985642766646\n",
      "<statsmodels.tsa.vector_ar.var_model.LagOrderResults object. Selected orders are: AIC -> 13, BIC -> 6, FPE -> 13, HQIC -> 6>\n",
      "Using 13 based on aic criterion\n",
      "0.150527251378176\n",
      "<statsmodels.tsa.vector_ar.var_model.LagOrderResults object. Selected orders are: AIC -> 13, BIC -> 6, FPE -> 13, HQIC -> 6>\n",
      "Using 13 based on aic criterion\n",
      "0.1225550489452943\n",
      "<statsmodels.tsa.vector_ar.var_model.LagOrderResults object. Selected orders are: AIC -> 13, BIC -> 6, FPE -> 13, HQIC -> 6>\n",
      "Using 13 based on aic criterion\n",
      "0.19002541903165368\n",
      "<statsmodels.tsa.vector_ar.var_model.LagOrderResults object. Selected orders are: AIC -> 13, BIC -> 6, FPE -> 13, HQIC -> 6>\n",
      "Using 13 based on aic criterion\n",
      "0.12379437224104943\n",
      "<statsmodels.tsa.vector_ar.var_model.LagOrderResults object. Selected orders are: AIC -> 14, BIC -> 6, FPE -> 14, HQIC -> 6>\n",
      "Using 14 based on aic criterion\n",
      "0.11272356435197321\n",
      "<statsmodels.tsa.vector_ar.var_model.LagOrderResults object. Selected orders are: AIC -> 13, BIC -> 6, FPE -> 13, HQIC -> 6>\n",
      "Using 13 based on aic criterion\n",
      "0.1868260323414077\n",
      "<statsmodels.tsa.vector_ar.var_model.LagOrderResults object. Selected orders are: AIC -> 13, BIC -> 6, FPE -> 13, HQIC -> 6>\n",
      "Using 13 based on aic criterion\n",
      "0.113190471082559\n",
      "<statsmodels.tsa.vector_ar.var_model.LagOrderResults object. Selected orders are: AIC -> 13, BIC -> 6, FPE -> 13, HQIC -> 6>\n",
      "Using 13 based on aic criterion\n",
      "0.1551951016570364\n",
      "<statsmodels.tsa.vector_ar.var_model.LagOrderResults object. Selected orders are: AIC -> 13, BIC -> 6, FPE -> 13, HQIC -> 6>\n",
      "Using 13 based on aic criterion\n",
      "0.1815004771798632\n",
      "<statsmodels.tsa.vector_ar.var_model.LagOrderResults object. Selected orders are: AIC -> 13, BIC -> 6, FPE -> 13, HQIC -> 6>\n",
      "Using 13 based on aic criterion\n",
      "0.2247066627129281\n",
      "<statsmodels.tsa.vector_ar.var_model.LagOrderResults object. Selected orders are: AIC -> 14, BIC -> 6, FPE -> 14, HQIC -> 6>\n",
      "Using 14 based on aic criterion\n",
      "0.16505144674459207\n",
      "<statsmodels.tsa.vector_ar.var_model.LagOrderResults object. Selected orders are: AIC -> 14, BIC -> 6, FPE -> 14, HQIC -> 6>\n",
      "Using 14 based on aic criterion\n",
      "0.1431511638352087\n",
      "<statsmodels.tsa.vector_ar.var_model.LagOrderResults object. Selected orders are: AIC -> 13, BIC -> 6, FPE -> 13, HQIC -> 6>\n",
      "Using 13 based on aic criterion\n",
      "0.17806507145740066\n",
      "<statsmodels.tsa.vector_ar.var_model.LagOrderResults object. Selected orders are: AIC -> 14, BIC -> 6, FPE -> 14, HQIC -> 6>\n",
      "Using 14 based on aic criterion\n",
      "0.11436285813577078\n",
      "<statsmodels.tsa.vector_ar.var_model.LagOrderResults object. Selected orders are: AIC -> 13, BIC -> 6, FPE -> 13, HQIC -> 6>\n",
      "Using 13 based on aic criterion\n",
      "0.12649667664699574\n",
      "<statsmodels.tsa.vector_ar.var_model.LagOrderResults object. Selected orders are: AIC -> 13, BIC -> 6, FPE -> 13, HQIC -> 6>\n",
      "Using 13 based on aic criterion\n",
      "0.21582488166098796\n"
     ]
    },
    {
     "name": "stdout",
     "output_type": "stream",
     "text": [
      "<statsmodels.tsa.vector_ar.var_model.LagOrderResults object. Selected orders are: AIC -> 14, BIC -> 6, FPE -> 14, HQIC -> 6>\n",
      "Using 14 based on aic criterion\n",
      "0.13822003310461012\n",
      "<statsmodels.tsa.vector_ar.var_model.LagOrderResults object. Selected orders are: AIC -> 13, BIC -> 6, FPE -> 13, HQIC -> 6>\n",
      "Using 13 based on aic criterion\n",
      "0.1857249079004244\n",
      "<statsmodels.tsa.vector_ar.var_model.LagOrderResults object. Selected orders are: AIC -> 13, BIC -> 6, FPE -> 13, HQIC -> 6>\n",
      "Using 13 based on aic criterion\n",
      "0.12751262851051903\n"
     ]
    }
   ],
   "source": [
    "all_items_smape = evaluate_multiple_var(items_time_series, number_of_items)"
   ]
  },
  {
   "cell_type": "code",
   "execution_count": 43,
   "metadata": {
    "scrolled": true
   },
   "outputs": [
    {
     "data": {
      "text/plain": [
       "<matplotlib.axes._subplots.AxesSubplot at 0x20abef48b70>"
      ]
     },
     "execution_count": 43,
     "metadata": {},
     "output_type": "execute_result"
    },
    {
     "data": {
      "image/png": "[encoded data removed]",
      "text/plain": [
       "<Figure size 432x288 with 1 Axes>"
      ]
     },
     "metadata": {},
     "output_type": "display_data"
    }
   ],
   "source": [
    "sns.distplot(all_items_smape)"
   ]
  },
  {
   "cell_type": "code",
   "execution_count": 44,
   "metadata": {},
   "outputs": [
    {
     "data": {
      "text/plain": [
       "DescribeResult(nobs=50, minmax=(0.10294431358820808, 0.24970152598833356), mean=0.14912976749311496, variance=0.0013015468133833435, skewness=0.824155341055402, kurtosis=-0.18818477001434353)"
      ]
     },
     "execution_count": 44,
     "metadata": {},
     "output_type": "execute_result"
    }
   ],
   "source": [
    "describe(all_items_smape)"
   ]
  }
 ],
 "metadata": {
  "kernelspec": {
   "display_name": "Python 3",
   "language": "python",
   "name": "python3"
  },
  "language_info": {
   "codemirror_mode": {
    "name": "ipython",
    "version": 3
   },
   "file_extension": ".py",
   "mimetype": "text/x-python",
   "name": "python",
   "nbconvert_exporter": "python",
   "pygments_lexer": "ipython3",
   "version": "3.6.8"
  }
 },
 "nbformat": 4,
 "nbformat_minor": 2
}
